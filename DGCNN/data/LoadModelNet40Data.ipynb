{
 "cells": [
  {
   "cell_type": "markdown",
   "metadata": {},
   "source": [
    "# 载入ModelNet40数据\n",
    "\n",
    "ModelNet40包含了来自40类的12311个三维形状，其中9843个文件用来训练，2468个文件用来测试\n",
    "\n",
    "点云文件由.H5文件格式来进行存储，如data\\modelnet40_ply_hdf5_2048\\ply_data_train0.h5\n"
   ]
  },
  {
   "cell_type": "code",
   "execution_count": 1,
   "metadata": {},
   "outputs": [
    {
     "name": "stdout",
     "output_type": "stream",
     "text": [
      "key is :['data', 'faceId', 'label', 'normal']\n"
     ]
    }
   ],
   "source": [
    "%matplotlib inline\n",
    "# 读取H5文件中的键值\n",
    "\n",
    "from matplotlib import pyplot as plt\n",
    "from mayavi import mlab\n",
    "import numpy as np\n",
    "\n",
    "from mpl_toolkits.mplot3d import Axes3D\n",
    "import h5py\n",
    "FILE_ABSOLUTE_PATH = \"C:/Users/ssk/Desktop/GNN/CodeFromGithub/dgcnn.pytorch/data/modelnet40_ply_hdf5_2048/ply_data_train0.h5\"\n",
    "def load_h5file(filename:str)->None:\n",
    "    \"\"\"\n",
    "    读取H5文件里的键值\n",
    "    :param filename:\n",
    "    :return None:\n",
    "    \"\"\"\n",
    "    with h5py.File(filename,mode=\"r\") as f:\n",
    "        return [item for item in f.keys()]\n",
    "\n",
    "keys = load_h5file(FILE_ABSOLUTE_PATH)\n",
    "print(f\"key is :{keys}\")\n"
   ]
  },
  {
   "cell_type": "code",
   "execution_count": 2,
   "metadata": {},
   "outputs": [
    {
     "name": "stdout",
     "output_type": "stream",
     "text": [
      "(2048, 2048, 3)\n",
      "(2048, 1)\n",
      "(2048, 2048)\n"
     ]
    }
   ],
   "source": [
    "# 访问以下几个属性\n",
    "with h5py.File(FILE_ABSOLUTE_PATH) as f:\n",
    "    data = f['data']\n",
    "    label = f['label']\n",
    "    faceId=f[\"faceId\"]\n",
    "    print(data.shape)\n",
    "    print(label.shape)\n",
    "    print(faceId.shape)"
   ]
  },
  {
   "cell_type": "markdown",
   "metadata": {},
   "source": [
    "我们可以看到 data.shape 是 2048\\*2048\\*3，其中第一个2048是这个FILE_ABSOLUTE_PATH里面有2048个物体的点云数据，第二个2048的意思是每个物体有2048个点，第三个数据3的意思是每个点的xyz坐标\n",
    "\n",
    "---\n",
    "\n",
    "尝试提取一个数据↓"
   ]
  },
  {
   "cell_type": "code",
   "execution_count": 3,
   "metadata": {},
   "outputs": [
    {
     "name": "stdout",
     "output_type": "stream",
     "text": [
      "[ 0.09804384 -0.16375712 -0.88815236]\n"
     ]
    }
   ],
   "source": [
    "with h5py.File(FILE_ABSOLUTE_PATH) as f:\n",
    "    data = f['data']\n",
    "    label = f['label']\n",
    "    print(data[0][0])"
   ]
  },
  {
   "cell_type": "markdown",
   "metadata": {},
   "source": [
    "# 显示点云"
   ]
  },
  {
   "cell_type": "code",
   "execution_count": 5,
   "metadata": {},
   "outputs": [],
   "source": [
    "\n",
    "f = h5py.File(FILE_ABSOLUTE_PATH)\n",
    "data = f['data']\n",
    "label = f['label']\n",
    "x =[]\n",
    "y = []\n",
    "z=[]\n",
    "\n",
    "NUM_OBJ=1145\n",
    "MAX_POINT=1024\n",
    "\n",
    "x=data [NUM_OBJ,:MAX_POINT,0]\n",
    "y=data [NUM_OBJ,:MAX_POINT,1]\n",
    "z=data [NUM_OBJ,:MAX_POINT,2]\n",
    "\n"
   ]
  },
  {
   "cell_type": "code",
   "execution_count": 6,
   "metadata": {},
   "outputs": [],
   "source": [
    "# ——————————————————————————————————————————————————————————————\n",
    "#                        mayavi可视化\n",
    "# ——————————————————————————————————————————————————————————————\n",
    "# s为points3d()函数的第四个参数，与x，y和z具有相同的形状，为每个点\n",
    "# 提供关联的标量值，或者返回标量值的函数f(x，y，z)\n",
    "# 此标量值可用于调整点的颜色和大小。\n",
    "s = np.sqrt(x ** 2 + y ** 2 + z ** 2)\n",
    "# 设置背景为白色，画布大小为300 * 200\n",
    "fig = mlab.figure(bgcolor=(1, 1, 1), size=(450, 300))\n",
    "# https://docs.enthought.com/mayavi/mayavi/auto/mlab_helper_functions.html#mayavi.mlab.points3d\n",
    "figure = mlab.points3d(x, y, z, s, mode=\"point\",\n",
    "                       colormap='spectral', scale_factor=1)\n",
    "mlab.show()    # 显示3D点云图\n"
   ]
  },
  {
   "cell_type": "markdown",
   "metadata": {},
   "source": [
    "# 硬是用不了plt ，真是令人头痛，什么垃圾玩意，毁我青春"
   ]
  },
  {
   "cell_type": "code",
   "execution_count": 7,
   "metadata": {},
   "outputs": [],
   "source": [
    "# 使用Matplotlib 进行可视化\n",
    "\n",
    "fig= plt.figure()\n",
    "ax =Axes3D(fig)\n",
    "ax.scatter(x,y,z)\n",
    "plt.show()\n"
   ]
  },
  {
   "cell_type": "markdown",
   "metadata": {},
   "source": [
    "# 报错如下\n",
    "\n",
    "Info 01:35:00: Execute Cells request 9\n",
    "Info 01:35:00: Execute Cell 9 c:\\Users\\ssk\\Desktop\\GNN\\Code\\DGCNN\\data\\LoadModelNet40Data.ipynb\n",
    "Error 01:35:00: Disposing session as kernel process died ExitCode: 3228369022, Reason: D:\\devloper\\anaconda3\\lib\\site-packages\\traitlets\\traitlets.py:2202: FutureWarning: Supporting extra quotes around strings is deprecated in traitlets 5.0. You can use 'hmac-sha256' instead of '\"hmac-sha256\"' if you require traitlets >=5.\n",
    "  warn(\n",
    "D:\\devloper\\anaconda3\\lib\\site-packages\\traitlets\\traitlets.py:2157: FutureWarning: Supporting extra quotes around Bytes is deprecated in traitlets 5.0. Use '6e58543e-af8e-45de-b438-a6360f9cb717' instead of 'b\"6e58543e-af8e-45de-b438-a6360f9cb717\"'.\n",
    "  warn(\n",
    "\n",
    "Info 01:35:00: Dispose Kernel process\n",
    "Info 01:35:00: kill daemon\n",
    "Error 01:35:00: Raw kernel process exited code: 3228369022\n",
    "Error 01:35:00: Error in waiting for cell to complete Error: Canceled future for execute_request message before replies were done\n",
    "    at t.KernelShellFutureHandler.dispose (c:\\Users\\ssk\\.vscode\\extensions\\ms-toolsai.jupyter-2022.1.1301854968\\out\\client\\extension.js:51:432353)\n",
    "    at c:\\Users\\ssk\\.vscode\\extensions\\ms-toolsai.jupyter-2022.1.1301854968\\out\\client\\extension.js:66:307599\n",
    "    at Map.forEach (<anonymous>)\n",
    "    at y._clearKernelState (c:\\Users\\ssk\\.vscode\\extensions\\ms-toolsai.jupyter-2022.1.1301854968\\out\\client\\extension.js:66:307585)\n",
    "    at y.dispose (c:\\Users\\ssk\\.vscode\\extensions\\ms-toolsai.jupyter-2022.1.1301854968\\out\\client\\extension.js:66:301017)\n",
    "    at c:\\Users\\ssk\\.vscode\\extensions\\ms-toolsai.jupyter-2022.1.1301854968\\out\\client\\extension.js:51:194444\n",
    "    at t.swallowExceptions (c:\\Users\\ssk\\.vscode\\extensions\\ms-toolsai.jupyter-2022.1.1301854968\\out\\client\\extension.js:16:2495)\n",
    "    at dispose (c:\\Users\\ssk\\.vscode\\extensions\\ms-toolsai.jupyter-2022.1.1301854968\\out\\client\\extension.js:51:194423)\n",
    "    at t.RawSession.dispose (c:\\Users\\ssk\\.vscode\\extensions\\ms-toolsai.jupyter-2022.1.1301854968\\out\\client\\extension.js:113:303296)\n",
    "    at processTicksAndRejections (internal/process/task_queues.js:93:5)\n",
    "Info 01:35:00: Cancel all remaining cells due to dead kernel\n",
    "Info 01:35:00: Cancel pending cells\n",
    "Info 01:35:00: Cell 9 executed with state Success"
   ]
  }
 ],
 "metadata": {
  "interpreter": {
   "hash": "32fe4a0c0b23bf2d0ff7b6ec889b7996b95e9e7ff48467869f67c8fd61e3e485"
  },
  "kernelspec": {
   "display_name": "Python 3.9.7 ('base')",
   "language": "python",
   "name": "python3"
  },
  "language_info": {
   "codemirror_mode": {
    "name": "ipython",
    "version": 3
   },
   "file_extension": ".py",
   "mimetype": "text/x-python",
   "name": "python",
   "nbconvert_exporter": "python",
   "pygments_lexer": "ipython3",
   "version": "3.9.7"
  },
  "orig_nbformat": 4
 },
 "nbformat": 4,
 "nbformat_minor": 2
}
