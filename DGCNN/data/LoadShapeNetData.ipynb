{
 "cells": [
  {
   "cell_type": "markdown",
   "metadata": {},
   "source": [
    "# ShapeNet - 分割任务的数据集\n",
    "shapenet是点云中一个比较常见的数据集，他能够完成部件分割任务。总共包括十六个大的类别，每个大的类别可以分成若干个小的类别，（例如飞机可以分成机翼机身等类别），总共有50个小的类别。\n"
   ]
  },
  {
   "cell_type": "code",
   "execution_count": 1,
   "metadata": {},
   "outputs": [
    {
     "name": "stdout",
     "output_type": "stream",
     "text": [
      "(14007, 2048, 3) (14007, 1) (14007, 2048)\n"
     ]
    }
   ],
   "source": [
    "#尝试读取文件\n",
    "import glob\n",
    "import os\n",
    "import h5py\n",
    "import numpy as np\n",
    "from mayavi import mlab\n",
    "ABSOLUTE_PATH = r\"C:\\Users\\ssk\\Desktop\\GNN\\CodeFromGithub\\dgcnn.pytorch\\data\\shapenet_part_seg_hdf5_data\"\n",
    "\n",
    "files = glob.glob(os.path.join(ABSOLUTE_PATH,\"*train*.h5\"))+glob.glob(os.path.join(ABSOLUTE_PATH,\"*val*.h5\"))\n",
    "\n",
    "all_data,all_label,all_seg=[],[],[]\n",
    "\n",
    "for file in files:\n",
    "    f = h5py.File(file,mode=\"r+\")\n",
    "    data = f[\"data\"][:].astype(\"float32\")\n",
    "    label = f[\"label\"][:].astype(\"int64\")\n",
    "    seg=f[\"pid\"][:].astype(\"int64\")\n",
    "    f.close()\n",
    "    all_data.append(data)\n",
    "    all_label.append(label)\n",
    "    all_seg.append(seg)\n",
    "\n",
    "all_data = np.concatenate(all_data,axis=0)\n",
    "all_label =np.concatenate(all_label,axis=0)\n",
    "all_seg = np.concatenate(all_seg,axis=0)\n",
    "\n",
    "print(all_data.shape , all_label.shape , all_seg.shape )"
   ]
  },
  {
   "cell_type": "code",
   "execution_count": 2,
   "metadata": {},
   "outputs": [
    {
     "name": "stdout",
     "output_type": "stream",
     "text": [
      "[-0.02182893 -0.02126083 -0.00469519]\n",
      "[7]\n"
     ]
    }
   ],
   "source": [
    "print(all_data[0,0,:])\n",
    "print(all_label[0])\n"
   ]
  },
  {
   "cell_type": "code",
   "execution_count": 15,
   "metadata": {},
   "outputs": [],
   "source": [
    "POINT_IDX =4\n",
    "x=all_data[POINT_IDX,:,0]\n",
    "y=all_data[POINT_IDX,:,1]\n",
    "z=all_data[POINT_IDX,:,2]\n",
    "# ——————————————————————————————————————————————————————————————\n",
    "#                        mayavi可视化\n",
    "# ——————————————————————————————————————————————————————————————\n",
    "# s为points3d()函数的第四个参数，与x，y和z具有相同的形状，为每个点\n",
    "# 提供关联的标量值，或者返回标量值的函数f(x，y，z)\n",
    "# 此标量值可用于调整点的颜色和大小。\n",
    "s = all_seg[POINT_IDX]\n",
    "# 设置背景为白色，画布大小为300 * 200\n",
    "fig = mlab.figure(bgcolor=(1, 1, 1), size=(450, 300))\n",
    "# https://docs.enthought.com/mayavi/mayavi/auto/mlab_helper_functions.html#mayavi.mlab.points3d\n",
    "figure = mlab.points3d(x, y, z, s, mode=\"point\",\n",
    "                       colormap='spectral', scale_factor=1)\n",
    "mlab.show()    # 显示3D点云图\n"
   ]
  }
 ],
 "metadata": {
  "interpreter": {
   "hash": "32fe4a0c0b23bf2d0ff7b6ec889b7996b95e9e7ff48467869f67c8fd61e3e485"
  },
  "kernelspec": {
   "display_name": "Python 3.9.7 ('base')",
   "language": "python",
   "name": "python3"
  },
  "language_info": {
   "codemirror_mode": {
    "name": "ipython",
    "version": 3
   },
   "file_extension": ".py",
   "mimetype": "text/x-python",
   "name": "python",
   "nbconvert_exporter": "python",
   "pygments_lexer": "ipython3",
   "version": "3.9.7"
  },
  "orig_nbformat": 4
 },
 "nbformat": 4,
 "nbformat_minor": 2
}
