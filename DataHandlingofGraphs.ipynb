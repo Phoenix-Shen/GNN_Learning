{
 "cells": [
  {
   "cell_type": "markdown",
   "metadata": {},
   "source": [
    "# torch_geometric.data.Data\n",
    "\n",
    "### data.x 顶点的特征矩阵 dim:[num_nodes,num_node_features]\n",
    "### data.edge_index 图的连通性矩阵 dim:[2,num_edges] torch.long\n",
    "### data.edge_attr 边的特征矩阵 dim:[num_edges,num_edge_features]\n",
    "### data.y 要训练的目标，dim随意，例如边的target是[num_nodes,*],全局的是[1,*]\n",
    "### data.pos 节点的位置矩阵 dim[num_nodes,num_dimensions]"
   ]
  },
  {
   "cell_type": "code",
   "execution_count": 2,
   "metadata": {},
   "outputs": [
    {
     "data": {
      "text/plain": [
       "Data(x=[3, 1], edge_index=[2, 4])"
      ]
     },
     "execution_count": 2,
     "metadata": {},
     "output_type": "execute_result"
    }
   ],
   "source": [
    "#定义一个无权重的无向图，它有3个顶点4条便，每个顶点有一个特征\n",
    "\n",
    "import torch as t\n",
    "from torch_geometric.data import Data\n",
    "\n",
    "edge_index = t.tensor([[0,1,1,2],[1,0,2,1]],dtype=t.long)\n",
    "x= t.tensor([[-1],[0],[1]],dtype=t.float32)\n",
    "\n",
    "data=Data(x=x,edge_index=edge_index)\n",
    "data"
   ]
  }
 ],
 "metadata": {
  "interpreter": {
   "hash": "d7d6d563c462dbcb2ee090b6970b42fc638e8eb4a4e6decc12c92a9df43cdf15"
  },
  "kernelspec": {
   "display_name": "Python 3.9.7 64-bit ('base': conda)",
   "language": "python",
   "name": "python3"
  },
  "language_info": {
   "codemirror_mode": {
    "name": "ipython",
    "version": 3
   },
   "file_extension": ".py",
   "mimetype": "text/x-python",
   "name": "python",
   "nbconvert_exporter": "python",
   "pygments_lexer": "ipython3",
   "version": "3.9.7"
  },
  "orig_nbformat": 4
 },
 "nbformat": 4,
 "nbformat_minor": 2
}
