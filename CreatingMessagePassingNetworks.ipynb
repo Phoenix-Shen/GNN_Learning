{
 "cells": [
  {
   "cell_type": "markdown",
   "metadata": {},
   "source": [
    "# Creating Message Passing Networks\n",
    "PYG 提供了MessagePassing的基类，会自己进行信息传递，用户需要定义phi、gamma函数和汇聚模式（sum、mean、max）\n",
    "\n",
    "```python\n",
    "MessagePassing(aggr=\"add\", flow=\"source_to_target\", node_dim=-2)\n",
    "```\n",
    "\n",
    "以下方法让我们能够进行网络的创建\n",
    "1. MessagePassing(aggr=\"add\",flow=source_to_target\",node_dim=-2)\n",
    "\n",
    "  node_dim : 哪个维度的数据被传播？\n",
    "\n",
    "2. MessagePassing.propagate(edge_index,size=None,**kwargs)\n",
    "\n",
    "进行消息传播的初始调用，将节点的信息和边的信息收集起来，然后进行节点向量的更新\n",
    "\n",
    "3. MessagePassing.message(...) 构建节点i的信息，参数是通过propagate的参数。\n",
    "\n",
    "4. MessagePassing.update(aggr_out,...),更新所有的节点的嵌入向量"
   ]
  },
  {
   "cell_type": "markdown",
   "metadata": {},
   "source": [
    "# IMPLEMETING THE GCN LAYER\n"
   ]
  },
  {
   "cell_type": "code",
   "execution_count": null,
   "metadata": {},
   "outputs": [],
   "source": []
  }
 ],
 "metadata": {
  "language_info": {
   "name": "python"
  },
  "orig_nbformat": 4
 },
 "nbformat": 4,
 "nbformat_minor": 2
}
