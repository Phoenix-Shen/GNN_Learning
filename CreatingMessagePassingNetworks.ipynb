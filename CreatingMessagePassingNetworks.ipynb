{
 "cells": [
  {
   "cell_type": "markdown",
   "metadata": {},
   "source": [
    "# Creating Message Passing Networks\n",
    "PYG 提供了MessagePassing的基类，会自己进行信息传递，用户需要定义phi、gamma函数和汇聚模式（sum、mean、max）\n",
    "\n",
    "```python\n",
    "MessagePassing(aggr=\"add\", flow=\"source_to_target\", node_dim=-2)\n",
    "```\n",
    "\n",
    "以下方法让我们能够进行网络的创建\n",
    "1. MessagePassing(aggr=\"add\",flow=source_to_target\",node_dim=-2)\n",
    "\n",
    "  node_dim : 哪个维度的数据被传播？\n",
    "\n",
    "2. MessagePassing.propagate(edge_index,size=None,**kwargs)\n",
    "\n",
    "进行消息传播的初始调用，将节点的信息和边的信息收集起来，然后进行节点向量的更新\n",
    "\n",
    "3. MessagePassing.message(...) 构建节点i的信息，参数是通过propagate的参数。\n",
    "\n",
    "4. MessagePassing.update(aggr_out,...),更新所有的节点的嵌入向量"
   ]
  },
  {
   "cell_type": "markdown",
   "metadata": {},
   "source": [
    "# IMPLEMETING THE GCN LAYER\n"
   ]
  },
  {
   "cell_type": "code",
   "execution_count": null,
   "metadata": {},
   "outputs": [],
   "source": [
    "import torch as t\n",
    "from torch_geometric.nn import MessagePassing\n",
    "from torch_geometric.utils import  add_self_loops,degree\n",
    "from typing import Optional\n",
    "\n",
    "class GCNConv(MessagePassing):\n",
    "    def __init__(self, in_channels,out_channels):\n",
    "        super().__init__(aggr=\"add\")\n",
    "        self.lin=t.nn.Linear(in_channels,out_channels)\n",
    "\n",
    "    def forward(self, x:t.Tensor, edge_index: t.Tensor):\n",
    "        # x.shape = [N,in_channels]\n",
    "        # edge_index.shape = [2,E] where E denotes the number of edges\n",
    "        # \n",
    "        # Step 1: Add self-loops to the adjacency matrix\n",
    "        edge_index,_=add_self_loops(edge_index,num_nodes=x.size(0))\n",
    "\n",
    "        # Step 2 : linearly transform node feature matrix\n",
    "        x= self.lin(x)\n",
    "\n",
    "        # Step 3 : Compute normalization\n",
    "        row,col=edge_index\n",
    "        deg=degree(col,x.size(0),dtype=x.dtype)\n",
    "        deg_inv_sqrt = deg.pow(-0.5)\n",
    "        deg_inv_sqrt[deg_inv_sqrt==float('inf')]=0\n",
    "        norm = deg_inv_sqrt[row]*deg_inv_sqrt[col]\n",
    "\n",
    "        # Step 4-5 : Start propagating messages.\n",
    "        return self.propagate(edge_index,x=x,norm=norm)\n",
    "\n",
    "    def message(self, x_j: t.Tensor, norm: t.Tensor) -> t.Tensor:\n",
    "        # x_j.shape = [e,out_channels]\n",
    "        # Step 4 : normalize node features\n",
    "        return norm.view(-1,1)*x_j\n"
   ]
  },
  {
   "cell_type": "markdown",
   "metadata": {},
   "source": []
  }
 ],
 "metadata": {
  "language_info": {
   "name": "python"
  },
  "orig_nbformat": 4
 },
 "nbformat": 4,
 "nbformat_minor": 2
}
